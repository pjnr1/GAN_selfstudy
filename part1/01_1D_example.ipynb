{
 "cells": [
  {
   "cell_type": "code",
   "execution_count": 136,
   "outputs": [],
   "source": [
    "# imports\n",
    "import numpy as np\n",
    "import torch\n",
    "import torch.nn\n",
    "import torch.nn.functional as F\n",
    "\n",
    "import matplotlib.pyplot as plt\n",
    "\n",
    "# local imports\n",
    "from models import SimpleModel, GAN"
   ],
   "metadata": {
    "collapsed": false,
    "pycharm": {
     "name": "#%%\n"
    }
   }
  },
  {
   "cell_type": "markdown",
   "metadata": {
    "collapsed": true,
    "pycharm": {
     "name": "#%% md\n"
    }
   },
   "source": [
    "# Part 1\n",
    "\n",
    "In this part, we are going to make a very simple example of a GAN.\n",
    "\n",
    "The input will be a 1D function as described\n",
    "[here](https://machinelearningmastery.com/how-to-develop-a-generative-adversarial-network-for-a-1-dimensional-function-from-scratch-in-keras/).\n"
   ]
  },
  {
   "cell_type": "markdown",
   "source": [
    "First, we make the function"
   ],
   "metadata": {
    "collapsed": false,
    "pycharm": {
     "name": "#%% md\n"
    }
   }
  },
  {
   "cell_type": "code",
   "execution_count": 137,
   "outputs": [],
   "source": [
    "def real_function(x):\n",
    "    f0 = 2.0\n",
    "    return np.sin(f0 * np.pi * x)\n"
   ],
   "metadata": {
    "collapsed": false,
    "pycharm": {
     "name": "#%%\n"
    }
   }
  },
  {
   "cell_type": "markdown",
   "source": [
    "Then we sample it, and plot it"
   ],
   "metadata": {
    "collapsed": false,
    "pycharm": {
     "name": "#%% md\n"
    }
   }
  },
  {
   "cell_type": "code",
   "execution_count": 137,
   "outputs": [],
   "source": [
    "# todo"
   ],
   "metadata": {
    "collapsed": false,
    "pycharm": {
     "name": "#%%\n"
    }
   }
  },
  {
   "cell_type": "markdown",
   "source": [
    "Define the model(s):\n",
    "\n",
    "A simple fully connected model with 1 hidden layer\n",
    "\n",
    "The task is to do binary classification; yes or no, whether the sample was real."
   ],
   "metadata": {
    "collapsed": false,
    "pycharm": {
     "name": "#%% md\n"
    }
   }
  },
  {
   "cell_type": "code",
   "execution_count": 138,
   "outputs": [],
   "source": [],
   "metadata": {
    "collapsed": false,
    "pycharm": {
     "name": "#%%\n"
    }
   }
  },
  {
   "cell_type": "markdown",
   "source": [
    "Setup data generators"
   ],
   "metadata": {
    "collapsed": false,
    "pycharm": {
     "name": "#%% md\n"
    }
   }
  },
  {
   "cell_type": "code",
   "execution_count": 139,
   "outputs": [],
   "source": [
    "# generate n real samples with class labels\n",
    "def generate_real_samples(n):\n",
    "    # generate inputs in [-0.5, 0.5]\n",
    "    x1 = 2 * np.random.rand(n) - 1\n",
    "    # generate outputs X^2\n",
    "    x2 = real_function(x1)\n",
    "    # stack arrays\n",
    "    x1 = x1.reshape(n, 1)\n",
    "    x2 = x2.reshape(n, 1)\n",
    "    x = np.hstack((x1, x2)).astype(float)\n",
    "    # generate class labels\n",
    "    y = np.ones((n, 1), dtype=float)\n",
    "    return torch.from_numpy(x).float(), torch.from_numpy(y).float()\n",
    "\n",
    "\n",
    "# generate points in latent space as input for the generator\n",
    "def generate_latent_points(latent_dim, n):\n",
    "    # generate points in the latent space\n",
    "    x_input = np.random.randn(latent_dim * n)\n",
    "    # reshape into a batch of inputs for the network\n",
    "    x_input = x_input.reshape(n, latent_dim)\n",
    "\n",
    "    return torch.from_numpy(x_input).float()\n",
    "\n",
    "\n",
    "# use the generator to generate n fake examples, with class labels\n",
    "def generate_fake_samples(g, latent_dim, n):\n",
    "    # generate points in latent space\n",
    "    x_input = generate_latent_points(latent_dim, n).float()\n",
    "    # predict outputs\n",
    "    x = g.forward(x_input).float()\n",
    "    # create class labels\n",
    "    y = np.zeros((n, 1), dtype=float)\n",
    "    y = torch.from_numpy(y).float()\n",
    "    return x, y\n",
    "\n",
    "# Summarice the performance,\n",
    "def summarize_performance(epoch, g, d, latent_dim, n=100):\n",
    "    # prepare real and fake samples\n",
    "    x_real, y_real = generate_real_samples(n)\n",
    "    x_fake, y_fake = generate_fake_samples(g, latent_dim, n)\n",
    "    # evaluate discriminator on fake examples\n",
    "    with torch.no_grad():\n",
    "        y_mreal = d.forward(x_real).reshape(-1)\n",
    "        y_mfake = d.forward(x_fake).reshape(-1)\n",
    "    acc_real = 0.0\n",
    "    acc_fake = 0.0\n",
    "    for f, r, mf, mr in zip(y_fake, y_real, y_mfake, y_mreal):\n",
    "        acc_real += 1 if r > .5 and mr > .5 or r < .5 and mr < .5 else 0\n",
    "        acc_fake += 1 if f > .5 and mf > .5 or f < .5 and mf < .5 else 0\n",
    "    acc_real /= len(y_fake)\n",
    "    acc_fake /= len(y_fake)\n",
    "\n",
    "    # scatter plot real and fake data points\n",
    "    plt.figure()\n",
    "    plt.scatter(x_real[:, 0].detach().numpy(), x_real[:, 1].detach().numpy(), color='red')\n",
    "    plt.scatter(x_fake[:, 0].detach().numpy(), x_fake[:, 1].detach().numpy(), color='blue')\n",
    "    plt.scatter(x_real[y_mreal[:] > .5, 0].detach().numpy(), x_real[y_mreal[:] > .5, 1].detach().numpy(), color='green')\n",
    "    plt.scatter(x_fake[y_mfake < .5, 0].detach().numpy(), x_fake[y_mfake < .5, 1].detach().numpy(), color='yellow')\n",
    "    plt.legend(['real', 'fake', 'hits_real', 'hits_fake'])\n",
    "    fig.suptitle(' '.join([str(x) for x in [epoch, acc_real, acc_fake]]))\n",
    "    plt.show()\n"
   ],
   "metadata": {
    "collapsed": false,
    "pycharm": {
     "name": "#%%\n"
    }
   }
  },
  {
   "cell_type": "markdown",
   "source": [
    "Train the GAN"
   ],
   "metadata": {
    "collapsed": false,
    "pycharm": {
     "name": "#%% md\n"
    }
   }
  },
  {
   "cell_type": "code",
   "execution_count": 140,
   "outputs": [],
   "source": [
    "n_data_per_epoch = 1000\n",
    "batchsize = 128\n",
    "n_epochs = 100\n",
    "n_batches = n_data_per_epoch // batchsize\n",
    "\n",
    "\n",
    "def train_batch(X, y, model, optimizer, loss_function=torch.nn.BCELoss):\n",
    "    optimizer.zero_grad()\n",
    "    X_model = model(X)\n",
    "    loss = loss_function()(X_model, y)\n",
    "    loss.backward()\n",
    "    optimizer.step()\n",
    "\n",
    "    return model, optimizer, loss\n",
    "\n",
    "\n",
    "def train(generator, discriminator, gan_model, latent_dim, n_epochs=10000, n_batch=128, n_eval=2000):\n",
    "    optimizer_discriminator = torch.optim.Adam(discriminator.parameters())\n",
    "    optimizer_generator = torch.optim.Adam(generator.parameters())\n",
    "    # determine half the size of one batch, for updating the discriminator\n",
    "    half_batch = int(n_batch / 2)\n",
    "    # manually enumerate epochs\n",
    "    for i in range(n_epochs):\n",
    "        # prepare real samples\n",
    "        x_real, y_real = generate_real_samples(half_batch)\n",
    "        # prepare fake examples\n",
    "        x_fake, y_fake = generate_fake_samples(generator, latent_dim, half_batch)\n",
    "        # train discriminator\n",
    "        discriminator, optimizer_discriminator, loss_real = train_batch(x_real,\n",
    "                                                                        y_real,\n",
    "                                                                        discriminator,\n",
    "                                                                        optimizer_discriminator)\n",
    "        discriminator, optimizer_discriminator, loss_fake = train_batch(x_fake,\n",
    "                                                                        y_fake,\n",
    "                                                                        discriminator,\n",
    "                                                                        optimizer_discriminator)\n",
    "        # prepare points in latent space as input for the generator\n",
    "        x_gan = generate_latent_points(latent_dim, n_batch)\n",
    "        # create inverted labels for the fake samples\n",
    "        y_gan = torch.ones((n_batch, 1)).float()\n",
    "        # train the generator via the discriminator's error\n",
    "        gan_model, optimizer_generator, loss = train_batch(x_gan,\n",
    "                                                           y_gan,\n",
    "                                                           gan_model,\n",
    "                                                           optimizer_generator)\n",
    "        # evaluate the model every n_eval epochs\n",
    "        if (i + 1) % n_eval == 0:\n",
    "            summarize_performance(i, generator, discriminator, latent_dim)"
   ],
   "metadata": {
    "collapsed": false,
    "pycharm": {
     "name": "#%%\n"
    }
   }
  },
  {
   "cell_type": "markdown",
   "source": [
    "Setup experiment and run"
   ],
   "metadata": {
    "collapsed": false,
    "pycharm": {
     "name": "#%% md\n"
    }
   }
  },
  {
   "cell_type": "code",
   "execution_count": 141,
   "outputs": [],
   "source": [
    "n_function = 2\n",
    "n_latent_variables = 5\n",
    "\n",
    "discriminator = SimpleModel(n_input=n_function,\n",
    "                            n_output=1,  # Fixed real/fake output\n",
    "                            n_hidden=15,\n",
    "                            n_hidden_layers=3,\n",
    "                            output_activation=torch.nn.Sigmoid())\n",
    "\n",
    "generator = SimpleModel(n_input=n_latent_variables,\n",
    "                        n_output=n_function,\n",
    "                        n_hidden=25,\n",
    "                        n_hidden_layers=3)\n",
    "\n",
    "gan_model = GAN(generator, discriminator)"
   ],
   "metadata": {
    "collapsed": false,
    "pycharm": {
     "name": "#%%\n"
    }
   }
  },
  {
   "cell_type": "code",
   "execution_count": 142,
   "outputs": [
    {
     "name": "stdout",
     "output_type": "stream",
     "text": [
      "4999 0.55 0.61\n"
     ]
    },
    {
     "data": {
      "text/plain": "<Figure size 432x288 with 1 Axes>",
      "image/png": "[encoded data removed]"
     },
     "metadata": {
      "needs_background": "light"
     },
     "output_type": "display_data"
    },
    {
     "name": "stdout",
     "output_type": "stream",
     "text": [
      "9999 0.62 0.51\n"
     ]
    },
    {
     "data": {
      "text/plain": "<Figure size 432x288 with 1 Axes>",
      "image/png": "[encoded data removed]"
     },
     "metadata": {
      "needs_background": "light"
     },
     "output_type": "display_data"
    },
    {
     "ename": "KeyboardInterrupt",
     "evalue": "",
     "output_type": "error",
     "traceback": [
      "\u001B[0;31m---------------------------------------------------------------------------\u001B[0m",
      "\u001B[0;31mKeyboardInterrupt\u001B[0m                         Traceback (most recent call last)",
      "\u001B[0;32m<ipython-input-142-eba42f0b145a>\u001B[0m in \u001B[0;36m<module>\u001B[0;34m\u001B[0m\n\u001B[0;32m----> 1\u001B[0;31m train(generator=generator,\n\u001B[0m\u001B[1;32m      2\u001B[0m       \u001B[0mdiscriminator\u001B[0m\u001B[0;34m=\u001B[0m\u001B[0mdiscriminator\u001B[0m\u001B[0;34m,\u001B[0m\u001B[0;34m\u001B[0m\u001B[0;34m\u001B[0m\u001B[0m\n\u001B[1;32m      3\u001B[0m       \u001B[0mgan_model\u001B[0m\u001B[0;34m=\u001B[0m\u001B[0mgan_model\u001B[0m\u001B[0;34m,\u001B[0m\u001B[0;34m\u001B[0m\u001B[0;34m\u001B[0m\u001B[0m\n\u001B[1;32m      4\u001B[0m       \u001B[0mlatent_dim\u001B[0m\u001B[0;34m=\u001B[0m\u001B[0mn_latent_variables\u001B[0m\u001B[0;34m,\u001B[0m\u001B[0;34m\u001B[0m\u001B[0;34m\u001B[0m\u001B[0m\n\u001B[1;32m      5\u001B[0m       \u001B[0mn_epochs\u001B[0m\u001B[0;34m=\u001B[0m\u001B[0;36m20000\u001B[0m\u001B[0;34m,\u001B[0m\u001B[0;34m\u001B[0m\u001B[0;34m\u001B[0m\u001B[0m\n",
      "\u001B[0;32m<ipython-input-140-9f00530c9153>\u001B[0m in \u001B[0;36mtrain\u001B[0;34m(generator, discriminator, gan_model, latent_dim, n_epochs, n_batch, n_eval)\u001B[0m\n\u001B[1;32m     27\u001B[0m         \u001B[0mx_fake\u001B[0m\u001B[0;34m,\u001B[0m \u001B[0my_fake\u001B[0m \u001B[0;34m=\u001B[0m \u001B[0mgenerate_fake_samples\u001B[0m\u001B[0;34m(\u001B[0m\u001B[0mgenerator\u001B[0m\u001B[0;34m,\u001B[0m \u001B[0mlatent_dim\u001B[0m\u001B[0;34m,\u001B[0m \u001B[0mhalf_batch\u001B[0m\u001B[0;34m)\u001B[0m\u001B[0;34m\u001B[0m\u001B[0;34m\u001B[0m\u001B[0m\n\u001B[1;32m     28\u001B[0m         \u001B[0;31m# train discriminator\u001B[0m\u001B[0;34m\u001B[0m\u001B[0;34m\u001B[0m\u001B[0;34m\u001B[0m\u001B[0m\n\u001B[0;32m---> 29\u001B[0;31m         discriminator, optimizer_discriminator, loss_real = train_batch(x_real,\n\u001B[0m\u001B[1;32m     30\u001B[0m                                                                         \u001B[0my_real\u001B[0m\u001B[0;34m,\u001B[0m\u001B[0;34m\u001B[0m\u001B[0;34m\u001B[0m\u001B[0m\n\u001B[1;32m     31\u001B[0m                                                                         \u001B[0mdiscriminator\u001B[0m\u001B[0;34m,\u001B[0m\u001B[0;34m\u001B[0m\u001B[0;34m\u001B[0m\u001B[0m\n",
      "\u001B[0;32m<ipython-input-140-9f00530c9153>\u001B[0m in \u001B[0;36mtrain_batch\u001B[0;34m(X, y, model, optimizer, loss_function)\u001B[0m\n\u001B[1;32m      6\u001B[0m \u001B[0;34m\u001B[0m\u001B[0m\n\u001B[1;32m      7\u001B[0m \u001B[0;32mdef\u001B[0m \u001B[0mtrain_batch\u001B[0m\u001B[0;34m(\u001B[0m\u001B[0mX\u001B[0m\u001B[0;34m,\u001B[0m \u001B[0my\u001B[0m\u001B[0;34m,\u001B[0m \u001B[0mmodel\u001B[0m\u001B[0;34m,\u001B[0m \u001B[0moptimizer\u001B[0m\u001B[0;34m,\u001B[0m \u001B[0mloss_function\u001B[0m\u001B[0;34m=\u001B[0m\u001B[0mtorch\u001B[0m\u001B[0;34m.\u001B[0m\u001B[0mnn\u001B[0m\u001B[0;34m.\u001B[0m\u001B[0mBCELoss\u001B[0m\u001B[0;34m)\u001B[0m\u001B[0;34m:\u001B[0m\u001B[0;34m\u001B[0m\u001B[0;34m\u001B[0m\u001B[0m\n\u001B[0;32m----> 8\u001B[0;31m     \u001B[0moptimizer\u001B[0m\u001B[0;34m.\u001B[0m\u001B[0mzero_grad\u001B[0m\u001B[0;34m(\u001B[0m\u001B[0;34m)\u001B[0m\u001B[0;34m\u001B[0m\u001B[0;34m\u001B[0m\u001B[0m\n\u001B[0m\u001B[1;32m      9\u001B[0m     \u001B[0mX_model\u001B[0m \u001B[0;34m=\u001B[0m \u001B[0mmodel\u001B[0m\u001B[0;34m(\u001B[0m\u001B[0mX\u001B[0m\u001B[0;34m)\u001B[0m\u001B[0;34m\u001B[0m\u001B[0;34m\u001B[0m\u001B[0m\n\u001B[1;32m     10\u001B[0m     \u001B[0mloss\u001B[0m \u001B[0;34m=\u001B[0m \u001B[0mloss_function\u001B[0m\u001B[0;34m(\u001B[0m\u001B[0;34m)\u001B[0m\u001B[0;34m(\u001B[0m\u001B[0mX_model\u001B[0m\u001B[0;34m,\u001B[0m \u001B[0my\u001B[0m\u001B[0;34m)\u001B[0m\u001B[0;34m\u001B[0m\u001B[0;34m\u001B[0m\u001B[0m\n",
      "\u001B[0;32m~/.pyenv/versions/3.8.6/lib/python3.8/site-packages/torch/optim/optimizer.py\u001B[0m in \u001B[0;36mzero_grad\u001B[0;34m(self, set_to_none)\u001B[0m\n\u001B[1;32m    204\u001B[0m         \u001B[0;32mif\u001B[0m \u001B[0;32mnot\u001B[0m \u001B[0mhasattr\u001B[0m\u001B[0;34m(\u001B[0m\u001B[0mself\u001B[0m\u001B[0;34m,\u001B[0m \u001B[0;34m\"_zero_grad_profile_name\"\u001B[0m\u001B[0;34m)\u001B[0m\u001B[0;34m:\u001B[0m\u001B[0;34m\u001B[0m\u001B[0;34m\u001B[0m\u001B[0m\n\u001B[1;32m    205\u001B[0m             \u001B[0mself\u001B[0m\u001B[0;34m.\u001B[0m\u001B[0m_hook_for_profile\u001B[0m\u001B[0;34m(\u001B[0m\u001B[0;34m)\u001B[0m\u001B[0;34m\u001B[0m\u001B[0;34m\u001B[0m\u001B[0m\n\u001B[0;32m--> 206\u001B[0;31m         \u001B[0;32mwith\u001B[0m \u001B[0mtorch\u001B[0m\u001B[0;34m.\u001B[0m\u001B[0mautograd\u001B[0m\u001B[0;34m.\u001B[0m\u001B[0mprofiler\u001B[0m\u001B[0;34m.\u001B[0m\u001B[0mrecord_function\u001B[0m\u001B[0;34m(\u001B[0m\u001B[0mself\u001B[0m\u001B[0;34m.\u001B[0m\u001B[0m_zero_grad_profile_name\u001B[0m\u001B[0;34m)\u001B[0m\u001B[0;34m:\u001B[0m\u001B[0;34m\u001B[0m\u001B[0;34m\u001B[0m\u001B[0m\n\u001B[0m\u001B[1;32m    207\u001B[0m             \u001B[0;32mfor\u001B[0m \u001B[0mgroup\u001B[0m \u001B[0;32min\u001B[0m \u001B[0mself\u001B[0m\u001B[0;34m.\u001B[0m\u001B[0mparam_groups\u001B[0m\u001B[0;34m:\u001B[0m\u001B[0;34m\u001B[0m\u001B[0;34m\u001B[0m\u001B[0m\n\u001B[1;32m    208\u001B[0m                 \u001B[0;32mfor\u001B[0m \u001B[0mp\u001B[0m \u001B[0;32min\u001B[0m \u001B[0mgroup\u001B[0m\u001B[0;34m[\u001B[0m\u001B[0;34m'params'\u001B[0m\u001B[0;34m]\u001B[0m\u001B[0;34m:\u001B[0m\u001B[0;34m\u001B[0m\u001B[0;34m\u001B[0m\u001B[0m\n",
      "\u001B[0;32m~/.pyenv/versions/3.8.6/lib/python3.8/site-packages/torch/autograd/profiler.py\u001B[0m in \u001B[0;36m__enter__\u001B[0;34m(self)\u001B[0m\n\u001B[1;32m    433\u001B[0m \u001B[0;34m\u001B[0m\u001B[0m\n\u001B[1;32m    434\u001B[0m     \u001B[0;32mdef\u001B[0m \u001B[0m__enter__\u001B[0m\u001B[0;34m(\u001B[0m\u001B[0mself\u001B[0m\u001B[0;34m)\u001B[0m\u001B[0;34m:\u001B[0m\u001B[0;34m\u001B[0m\u001B[0;34m\u001B[0m\u001B[0m\n\u001B[0;32m--> 435\u001B[0;31m         \u001B[0mself\u001B[0m\u001B[0;34m.\u001B[0m\u001B[0mhandle\u001B[0m \u001B[0;34m=\u001B[0m \u001B[0mtorch\u001B[0m\u001B[0;34m.\u001B[0m\u001B[0mops\u001B[0m\u001B[0;34m.\u001B[0m\u001B[0mprofiler\u001B[0m\u001B[0;34m.\u001B[0m\u001B[0m_record_function_enter\u001B[0m\u001B[0;34m(\u001B[0m\u001B[0mself\u001B[0m\u001B[0;34m.\u001B[0m\u001B[0mname\u001B[0m\u001B[0;34m)\u001B[0m\u001B[0;34m\u001B[0m\u001B[0;34m\u001B[0m\u001B[0m\n\u001B[0m\u001B[1;32m    436\u001B[0m         \u001B[0;32mreturn\u001B[0m \u001B[0mself\u001B[0m\u001B[0;34m\u001B[0m\u001B[0;34m\u001B[0m\u001B[0m\n\u001B[1;32m    437\u001B[0m \u001B[0;34m\u001B[0m\u001B[0m\n",
      "\u001B[0;31mKeyboardInterrupt\u001B[0m: "
     ]
    }
   ],
   "source": [
    "train(generator=generator,\n",
    "      discriminator=discriminator,\n",
    "      gan_model=gan_model,\n",
    "      latent_dim=n_latent_variables,\n",
    "      n_epochs=20000,\n",
    "      n_eval=5000,\n",
    "      n_batch=128)"
   ],
   "metadata": {
    "collapsed": false,
    "pycharm": {
     "name": "#%%\n"
    }
   }
  },
  {
   "cell_type": "code",
   "execution_count": null,
   "outputs": [],
   "source": [
    "print('done')"
   ],
   "metadata": {
    "collapsed": false,
    "pycharm": {
     "name": "#%%\n"
    }
   }
  },
  {
   "cell_type": "code",
   "execution_count": null,
   "outputs": [],
   "source": [
    "for n, p in generator.named_parameters():\n",
    "    print(n, p.shape)"
   ],
   "metadata": {
    "collapsed": false,
    "pycharm": {
     "name": "#%%\n"
    }
   }
  },
  {
   "cell_type": "code",
   "execution_count": null,
   "outputs": [],
   "source": [],
   "metadata": {
    "collapsed": false,
    "pycharm": {
     "name": "#%%\n"
    }
   }
  }
 ],
 "metadata": {
  "kernelspec": {
   "display_name": "Python 3",
   "language": "python",
   "name": "python3"
  },
  "language_info": {
   "codemirror_mode": {
    "name": "ipython",
    "version": 2
   },
   "file_extension": ".py",
   "mimetype": "text/x-python",
   "name": "python",
   "nbconvert_exporter": "python",
   "pygments_lexer": "ipython2",
   "version": "2.7.6"
  }
 },
 "nbformat": 4,
 "nbformat_minor": 0
}